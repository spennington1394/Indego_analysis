{
 "cells": [
  {
   "cell_type": "code",
   "execution_count": 1,
   "metadata": {},
   "outputs": [],
   "source": [
    "import pandas as pd"
   ]
  },
  {
   "cell_type": "markdown",
   "metadata": {},
   "source": [
    "## Quarters 2015 read in. "
   ]
  },
  {
   "cell_type": "code",
   "execution_count": 2,
   "metadata": {},
   "outputs": [],
   "source": [
    "q215 = 'Quarters_2015/2015Q2.csv'\n",
    "q215_df = pd.read_csv(q215)"
   ]
  },
  {
   "cell_type": "code",
   "execution_count": 3,
   "metadata": {},
   "outputs": [],
   "source": [
    "q215_df = q215_df[['trip_id','duration','start_station_id',\n",
    "                          'end_station_id','plan_duration','bike_id','trip_route_category',\n",
    "                          'passholder_type']]"
   ]
  },
  {
   "cell_type": "code",
   "execution_count": 51,
   "metadata": {},
   "outputs": [],
   "source": [
    "q215_df.to_csv('q215.csv')"
   ]
  },
  {
   "cell_type": "code",
   "execution_count": 4,
   "metadata": {
    "scrolled": true
   },
   "outputs": [
    {
     "name": "stderr",
     "output_type": "stream",
     "text": [
      "/Users/kscomputer/.local/lib/python3.6/site-packages/IPython/core/interactiveshell.py:3072: DtypeWarning: Columns (10) have mixed types.Specify dtype option on import or set low_memory=False.\n",
      "  interactivity=interactivity, compiler=compiler, result=result)\n"
     ]
    }
   ],
   "source": [
    "q315 = 'Quarters_2015/2015Q3.csv'\n",
    "q315_df = pd.read_csv(q315)"
   ]
  },
  {
   "cell_type": "code",
   "execution_count": 5,
   "metadata": {},
   "outputs": [],
   "source": [
    "q315_df = q315_df[['trip_id','duration','start_station_id',\n",
    "                          'end_station_id','plan_duration','bike_id','trip_route_category',\n",
    "                          'passholder_type']]"
   ]
  },
  {
   "cell_type": "code",
   "execution_count": 52,
   "metadata": {},
   "outputs": [],
   "source": [
    "q315_df.to_csv('q315.csv')"
   ]
  },
  {
   "cell_type": "code",
   "execution_count": 6,
   "metadata": {},
   "outputs": [],
   "source": [
    "q415 = 'Quarters_2015/2015Q4.csv'\n",
    "q415_df = pd.read_csv(q415)"
   ]
  },
  {
   "cell_type": "code",
   "execution_count": 7,
   "metadata": {},
   "outputs": [],
   "source": [
    "q415_df = q415_df[['trip_id','duration','start_station_id',\n",
    "                          'end_station_id','plan_duration','bike_id','trip_route_category',\n",
    "                          'passholder_type']]"
   ]
  },
  {
   "cell_type": "code",
   "execution_count": 53,
   "metadata": {},
   "outputs": [],
   "source": [
    "q415_df.to_csv('q415.csv')"
   ]
  },
  {
   "cell_type": "code",
   "execution_count": null,
   "metadata": {},
   "outputs": [],
   "source": []
  },
  {
   "cell_type": "markdown",
   "metadata": {},
   "source": [
    "## Quarters 2016 read in"
   ]
  },
  {
   "cell_type": "code",
   "execution_count": 8,
   "metadata": {},
   "outputs": [],
   "source": [
    "q116 = 'Quarters_2016/2016Q1.csv'\n",
    "q116_df = pd.read_csv(q116)"
   ]
  },
  {
   "cell_type": "code",
   "execution_count": 9,
   "metadata": {},
   "outputs": [],
   "source": [
    "q116_df = q116_df[['trip_id','duration','start_station_id',\n",
    "                          'end_station_id','plan_duration','bike_id','trip_route_category',\n",
    "                          'passholder_type']]"
   ]
  },
  {
   "cell_type": "code",
   "execution_count": 54,
   "metadata": {},
   "outputs": [],
   "source": [
    "q116_df.to_csv('q116.csv')"
   ]
  },
  {
   "cell_type": "code",
   "execution_count": 10,
   "metadata": {},
   "outputs": [],
   "source": [
    "q216 = 'Quarters_2016/2016Q2.csv'\n",
    "q216_df = pd.read_csv(q216)"
   ]
  },
  {
   "cell_type": "code",
   "execution_count": 11,
   "metadata": {},
   "outputs": [],
   "source": [
    "q216_df = q216_df[['trip_id','duration','start_station_id',\n",
    "                          'end_station_id','plan_duration','bike_id','trip_route_category',\n",
    "                          'passholder_type']]"
   ]
  },
  {
   "cell_type": "code",
   "execution_count": 55,
   "metadata": {},
   "outputs": [],
   "source": [
    "q216_df.to_csv('q216.csv')"
   ]
  },
  {
   "cell_type": "code",
   "execution_count": 12,
   "metadata": {},
   "outputs": [],
   "source": [
    "q316 = 'Quarters_2016/2016Q3.csv'\n",
    "q316_df = pd.read_csv(q316)"
   ]
  },
  {
   "cell_type": "code",
   "execution_count": 13,
   "metadata": {},
   "outputs": [],
   "source": [
    "q316_df = q316_df[['trip_id','duration','start_station_id',\n",
    "                          'end_station_id','plan_duration','bike_id','trip_route_category',\n",
    "                          'passholder_type']]"
   ]
  },
  {
   "cell_type": "code",
   "execution_count": 56,
   "metadata": {},
   "outputs": [],
   "source": [
    "q316_df.to_csv('q316.csv')"
   ]
  },
  {
   "cell_type": "code",
   "execution_count": 14,
   "metadata": {},
   "outputs": [],
   "source": [
    "q416 = 'Quarters_2016/2016Q4.csv'\n",
    "q416_df = pd.read_csv(q416)"
   ]
  },
  {
   "cell_type": "code",
   "execution_count": 15,
   "metadata": {},
   "outputs": [],
   "source": [
    "q416_df = q416_df[['trip_id','duration','start_station_id',\n",
    "                          'end_station_id','plan_duration','bike_id','trip_route_category',\n",
    "                          'passholder_type']]"
   ]
  },
  {
   "cell_type": "code",
   "execution_count": 57,
   "metadata": {},
   "outputs": [],
   "source": [
    "q416_df.to_csv('q416.csv')"
   ]
  },
  {
   "cell_type": "markdown",
   "metadata": {},
   "source": [
    "## Quarters 2017 read in"
   ]
  },
  {
   "cell_type": "code",
   "execution_count": 16,
   "metadata": {},
   "outputs": [],
   "source": [
    "q117 = 'Quarters_2017/Q1_2017.csv'\n",
    "q117_df = pd.read_csv(q117)"
   ]
  },
  {
   "cell_type": "code",
   "execution_count": 17,
   "metadata": {},
   "outputs": [],
   "source": [
    "q117_df = q117_df[['trip_id','duration','start_station_id',\n",
    "                          'end_station_id','plan_duration','bike_id','trip_route_category',\n",
    "                          'passholder_type']]"
   ]
  },
  {
   "cell_type": "code",
   "execution_count": 58,
   "metadata": {},
   "outputs": [],
   "source": [
    "q117_df.to_csv('q117.csv')"
   ]
  },
  {
   "cell_type": "code",
   "execution_count": 18,
   "metadata": {},
   "outputs": [],
   "source": [
    "q217 = 'Quarters_2017/Q2_2017.csv'\n",
    "q217_df = pd.read_csv(q217)"
   ]
  },
  {
   "cell_type": "code",
   "execution_count": 19,
   "metadata": {},
   "outputs": [],
   "source": [
    "q217_df = q217_df[['trip_id','duration','start_station',\n",
    "                          'end_station','plan_duration','bike_id','trip_route_category',\n",
    "                          'passholder_type']]"
   ]
  },
  {
   "cell_type": "code",
   "execution_count": 59,
   "metadata": {},
   "outputs": [],
   "source": [
    "q217_df.to_csv('q217.csv')"
   ]
  },
  {
   "cell_type": "code",
   "execution_count": 20,
   "metadata": {},
   "outputs": [],
   "source": [
    "q317 = 'Quarters_2017/Q3_2017.csv'\n",
    "q317_df = pd.read_csv(q317)"
   ]
  },
  {
   "cell_type": "code",
   "execution_count": 21,
   "metadata": {},
   "outputs": [],
   "source": [
    "q317_df = q317_df[['trip_id','duration','start_station',\n",
    "                          'end_station','plan_duration','bike_id','trip_route_category',\n",
    "                          'passholder_type']]"
   ]
  },
  {
   "cell_type": "code",
   "execution_count": 60,
   "metadata": {},
   "outputs": [],
   "source": [
    "q317_df.to_csv('q317.csv')"
   ]
  },
  {
   "cell_type": "code",
   "execution_count": 22,
   "metadata": {},
   "outputs": [],
   "source": [
    "q417 = 'Quarters_2017/Q4_2017.csv'\n",
    "q417_df = pd.read_csv(q417)"
   ]
  },
  {
   "cell_type": "code",
   "execution_count": 23,
   "metadata": {},
   "outputs": [],
   "source": [
    "q417_df = q417_df[['trip_id','duration','start_station',\n",
    "                          'end_station','plan_duration','bike_id','trip_route_category',\n",
    "                          'passholder_type']]"
   ]
  },
  {
   "cell_type": "code",
   "execution_count": 61,
   "metadata": {},
   "outputs": [],
   "source": [
    "q417_df.to_csv('q417.csv')"
   ]
  },
  {
   "cell_type": "markdown",
   "metadata": {},
   "source": [
    "## Quarters 2018 read in"
   ]
  },
  {
   "cell_type": "code",
   "execution_count": 24,
   "metadata": {},
   "outputs": [],
   "source": [
    "q118 = 'Quarters_2018/2018-q1.csv'\n",
    "q118_df = pd.read_csv(q118)"
   ]
  },
  {
   "cell_type": "code",
   "execution_count": 25,
   "metadata": {},
   "outputs": [],
   "source": [
    "q118_df = q118_df[['trip_id','duration','start_station',\n",
    "                          'end_station','plan_duration','bike_id','trip_route_category',\n",
    "                          'passholder_type']]"
   ]
  },
  {
   "cell_type": "code",
   "execution_count": 62,
   "metadata": {},
   "outputs": [],
   "source": [
    "q118_df.to_csv('q118.csv')"
   ]
  },
  {
   "cell_type": "code",
   "execution_count": 26,
   "metadata": {},
   "outputs": [],
   "source": [
    "q218 = 'Quarters_2018/2018-q2.csv'\n",
    "q218_df = pd.read_csv(q218)"
   ]
  },
  {
   "cell_type": "code",
   "execution_count": 27,
   "metadata": {},
   "outputs": [],
   "source": [
    "q218_df = q218_df[['trip_id','duration','start_station',\n",
    "                          'end_station','plan_duration','bike_id','trip_route_category',\n",
    "                          'passholder_type']]"
   ]
  },
  {
   "cell_type": "code",
   "execution_count": 63,
   "metadata": {},
   "outputs": [],
   "source": [
    "q218_df.to_csv('q218.csv')"
   ]
  },
  {
   "cell_type": "code",
   "execution_count": 28,
   "metadata": {},
   "outputs": [],
   "source": [
    "q318 = 'Quarters_2018/2018-q3.csv'\n",
    "q318_df = pd.read_csv(q318)"
   ]
  },
  {
   "cell_type": "markdown",
   "metadata": {},
   "source": [
    "### bike_type column added in (2018 electric option offered or tracked)\n"
   ]
  },
  {
   "cell_type": "code",
   "execution_count": 29,
   "metadata": {},
   "outputs": [],
   "source": [
    "q318_df = q318_df[['trip_id','duration','start_station',\n",
    "                          'end_station','plan_duration','bike_id','trip_route_category',\n",
    "                          'passholder_type','bike_type']]"
   ]
  },
  {
   "cell_type": "code",
   "execution_count": 64,
   "metadata": {},
   "outputs": [],
   "source": [
    "q318_df.to_csv('q318.csv')"
   ]
  },
  {
   "cell_type": "code",
   "execution_count": 30,
   "metadata": {},
   "outputs": [],
   "source": [
    "q418 = 'Quarters_2018/2018-q4.csv'\n",
    "q418_df = pd.read_csv(q418)"
   ]
  },
  {
   "cell_type": "code",
   "execution_count": 31,
   "metadata": {},
   "outputs": [],
   "source": [
    "q418_df = q418_df[['trip_id','duration','start_station',\n",
    "                          'end_station','plan_duration','bike_id','trip_route_category',\n",
    "                          'passholder_type','bike_type']]"
   ]
  },
  {
   "cell_type": "code",
   "execution_count": 65,
   "metadata": {},
   "outputs": [],
   "source": [
    "q418_df.to_csv('q418.csv')"
   ]
  },
  {
   "cell_type": "markdown",
   "metadata": {},
   "source": [
    "## Quarters 2019 read in"
   ]
  },
  {
   "cell_type": "code",
   "execution_count": 32,
   "metadata": {},
   "outputs": [],
   "source": [
    "q119 = 'Quarters_2019/2019-q1.csv'\n",
    "q119_df = pd.read_csv(q119)"
   ]
  },
  {
   "cell_type": "code",
   "execution_count": 34,
   "metadata": {},
   "outputs": [],
   "source": [
    "q119_df = q119_df[['trip_id','duration','start_station',\n",
    "                          'end_station','plan_duration','bike_id','trip_route_category',\n",
    "                          'passholder_type','bike_type']]"
   ]
  },
  {
   "cell_type": "code",
   "execution_count": 66,
   "metadata": {},
   "outputs": [],
   "source": [
    "q119_df.to_csv('q119.csv')"
   ]
  },
  {
   "cell_type": "code",
   "execution_count": 35,
   "metadata": {},
   "outputs": [],
   "source": [
    "q219 = 'Quarters_2019/2019-q2.csv'\n",
    "q219_df = pd.read_csv(q219)"
   ]
  },
  {
   "cell_type": "code",
   "execution_count": 36,
   "metadata": {},
   "outputs": [],
   "source": [
    "q219_df = q219_df[['trip_id','duration','start_station',\n",
    "                          'end_station','plan_duration','bike_id','trip_route_category',\n",
    "                          'passholder_type','bike_type']]"
   ]
  },
  {
   "cell_type": "code",
   "execution_count": 67,
   "metadata": {},
   "outputs": [],
   "source": [
    "q219_df.to_csv('q219.csv')"
   ]
  },
  {
   "cell_type": "code",
   "execution_count": 37,
   "metadata": {},
   "outputs": [],
   "source": [
    "q319 = 'Quarters_2019/2019-q3.csv'\n",
    "q319_df = pd.read_csv(q319)"
   ]
  },
  {
   "cell_type": "code",
   "execution_count": 38,
   "metadata": {},
   "outputs": [],
   "source": [
    "q319_df = q319_df[['trip_id','duration','start_station',\n",
    "                          'end_station','plan_duration','bike_id','trip_route_category',\n",
    "                          'passholder_type','bike_type']]"
   ]
  },
  {
   "cell_type": "code",
   "execution_count": 68,
   "metadata": {},
   "outputs": [],
   "source": [
    "q319_df.to_csv('q319.csv')"
   ]
  },
  {
   "cell_type": "code",
   "execution_count": 39,
   "metadata": {},
   "outputs": [],
   "source": [
    "q419 = 'Quarters_2019/2019-q4.csv'\n",
    "q419_df = pd.read_csv(q419)"
   ]
  },
  {
   "cell_type": "code",
   "execution_count": 40,
   "metadata": {},
   "outputs": [],
   "source": [
    "q419_df = q419_df[['trip_id','duration','start_station',\n",
    "                          'end_station','plan_duration','bike_id','trip_route_category',\n",
    "                          'passholder_type','bike_type']]"
   ]
  },
  {
   "cell_type": "code",
   "execution_count": 69,
   "metadata": {},
   "outputs": [],
   "source": [
    "q419_df.to_csv('q419.csv')"
   ]
  },
  {
   "cell_type": "markdown",
   "metadata": {},
   "source": [
    "## Quarters 2020 read in"
   ]
  },
  {
   "cell_type": "code",
   "execution_count": 41,
   "metadata": {},
   "outputs": [],
   "source": [
    "q120 = 'Quarters_2020/2020-q1.csv'\n",
    "q120_df = pd.read_csv(q120)"
   ]
  },
  {
   "cell_type": "code",
   "execution_count": 43,
   "metadata": {},
   "outputs": [],
   "source": [
    "q120_df = q120_df[['trip_id','duration','start_station',\n",
    "                          'end_station','plan_duration','bike_id','trip_route_category',\n",
    "                          'passholder_type','bike_type']]"
   ]
  },
  {
   "cell_type": "code",
   "execution_count": 70,
   "metadata": {},
   "outputs": [],
   "source": [
    "q120_df.to_csv('q120.csv')"
   ]
  },
  {
   "cell_type": "code",
   "execution_count": 44,
   "metadata": {},
   "outputs": [],
   "source": [
    "q220 = 'Quarters_2020/2020-q2.csv'\n",
    "q220_df = pd.read_csv(q220)"
   ]
  },
  {
   "cell_type": "code",
   "execution_count": 47,
   "metadata": {},
   "outputs": [],
   "source": [
    "q220_df = q220_df[['trip_id','duration','start_station',\n",
    "                          'end_station','plan_duration','bike_id','trip_route_category',\n",
    "                          'passholder_type','bike_type']]"
   ]
  },
  {
   "cell_type": "code",
   "execution_count": 71,
   "metadata": {},
   "outputs": [],
   "source": [
    "q220_df.to_csv('q220.csv')"
   ]
  },
  {
   "cell_type": "code",
   "execution_count": 45,
   "metadata": {},
   "outputs": [
    {
     "name": "stderr",
     "output_type": "stream",
     "text": [
      "/Users/kscomputer/.local/lib/python3.6/site-packages/IPython/core/interactiveshell.py:3072: DtypeWarning: Columns (10) have mixed types.Specify dtype option on import or set low_memory=False.\n",
      "  interactivity=interactivity, compiler=compiler, result=result)\n"
     ]
    }
   ],
   "source": [
    "q320 = 'Quarters_2020/2020-q3.csv'\n",
    "q320_df = pd.read_csv(q320)"
   ]
  },
  {
   "cell_type": "code",
   "execution_count": 48,
   "metadata": {},
   "outputs": [],
   "source": [
    "q320_df = q320_df[['trip_id','duration','start_station',\n",
    "                          'end_station','plan_duration','bike_id','trip_route_category',\n",
    "                          'passholder_type','bike_type']]"
   ]
  },
  {
   "cell_type": "code",
   "execution_count": 72,
   "metadata": {},
   "outputs": [],
   "source": [
    "q320_df.to_csv('q320.csv')"
   ]
  },
  {
   "cell_type": "code",
   "execution_count": 46,
   "metadata": {},
   "outputs": [],
   "source": [
    "q420 = 'Quarters_2020/2020-q4.csv'\n",
    "q420_df = pd.read_csv(q420)"
   ]
  },
  {
   "cell_type": "code",
   "execution_count": 49,
   "metadata": {},
   "outputs": [],
   "source": [
    "q420_df = q420_df[['trip_id','duration','start_station',\n",
    "                          'end_station','plan_duration','bike_id','trip_route_category',\n",
    "                          'passholder_type','bike_type']]"
   ]
  },
  {
   "cell_type": "code",
   "execution_count": 73,
   "metadata": {},
   "outputs": [],
   "source": [
    "q420_df.to_csv('q420.csv')"
   ]
  },
  {
   "cell_type": "code",
   "execution_count": null,
   "metadata": {},
   "outputs": [],
   "source": []
  }
 ],
 "metadata": {
  "kernelspec": {
   "display_name": "PythonDataUPenn",
   "language": "python",
   "name": "pythondataupenn"
  },
  "language_info": {
   "codemirror_mode": {
    "name": "ipython",
    "version": 3
   },
   "file_extension": ".py",
   "mimetype": "text/x-python",
   "name": "python",
   "nbconvert_exporter": "python",
   "pygments_lexer": "ipython3",
   "version": "3.6.10"
  }
 },
 "nbformat": 4,
 "nbformat_minor": 4
}
